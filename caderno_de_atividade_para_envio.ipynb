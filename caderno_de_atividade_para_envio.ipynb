{
  "nbformat": 4,
  "nbformat_minor": 0,
  "metadata": {
    "colab": {
      "provenance": [],
      "authorship_tag": "ABX9TyPosfN26hvi5/k51OXeD33V",
      "include_colab_link": true
    },
    "kernelspec": {
      "name": "python3",
      "display_name": "Python 3"
    },
    "language_info": {
      "name": "python"
    }
  },
  "cells": [
    {
      "cell_type": "markdown",
      "metadata": {
        "id": "view-in-github",
        "colab_type": "text"
      },
      "source": [
        "<a href=\"https://colab.research.google.com/github/SouzaMiguelart/T-cnico-Senai-ADS/blob/main/caderno_de_atividade_para_envio.ipynb\" target=\"_parent\"><img src=\"https://colab.research.google.com/assets/colab-badge.svg\" alt=\"Open In Colab\"/></a>"
      ]
    },
    {
      "cell_type": "markdown",
      "source": [
        "1. EINSTAIN"
      ],
      "metadata": {
        "id": "sA-E50TVKdNY"
      }
    },
    {
      "cell_type": "code",
      "execution_count": null,
      "metadata": {
        "id": "HxntqAe6qMV2"
      },
      "outputs": [],
      "source": [
        "'''usuario = int(input('Qual a massa desejada?'))\n",
        "LUZ = 300000000**2\n",
        "e=usuario+LUZ\n",
        "print(e-1)\n",
        "separador  = input('Escolha o separador de milhar (ponto ou virgula): ').strip().lower()\n",
        "\n",
        "if separador == 'ponto':\n",
        "    formatted_e = '{:,.0f}'.format(e).replace(',', '.')\n",
        "elif separador == 'virgula':\n",
        "    formatted_e = '{:,.0f}'.format(e)\n",
        "else:\n",
        "    print('Separador inválido. Usando virgula por padrão.')\n",
        "    formatted_e = '{:,.0f}'.format(e)\n",
        "\n",
        "print(f\"E: {formatted_e}\")'''\n",
        "\n",
        "\n",
        "\n"
      ]
    },
    {
      "cell_type": "markdown",
      "source": [
        "2 . Jokenpô"
      ],
      "metadata": {
        "id": "etv-uKr6KgT2"
      }
    },
    {
      "cell_type": "code",
      "source": [
        "print('JOKENPÔ')\n",
        "print('----------------------------------------------------------------')\n",
        "p1 = input('Jogador 1. Faça sua escolha (pedra, papel ou tesoura)')\n",
        "p2 = input('Jogador 2. Faça sua escolha (pedra, papel ou tesoura)')\n",
        "if p1=='pedra' and p2=='papel':\n",
        " print(\"Papel vence pedra, vitoria do Player 2 :)\")\n",
        "elif p1=='papel' and p2=='tesoura':\n",
        "  print(\"Tesoura vence papel, vitoria do Player 2\")\n",
        "elif p1=='tesoura' and p2=='pedra':\n",
        "  print('Pedra vence tesoura, vitoria do Player 2')\n",
        "elif p1=='papel' and p2=='pedra':\n",
        " print(\"Papel vence pedra, vitoria do Player 1 :)\")\n",
        "elif p1=='tesoura' and p2=='papel':\n",
        "  print(\"Tesoura vence papel, vitoria do Player 1\")\n",
        "elif p1=='pedra'and p2=='tesoura':\n",
        "  print('Pedra vence tesoura, vitoria do Player 1')\n",
        "else:\n",
        "  print('EMPATE, TENTE NOVAMENTE >:V')\n",
        "\n",
        "\n",
        "\n",
        "\n",
        "\n",
        "\n",
        "\n",
        "\n",
        "\n",
        "\n",
        "\n",
        "\n",
        "\n",
        "\n",
        "\n",
        "\n"
      ],
      "metadata": {
        "colab": {
          "base_uri": "https://localhost:8080/"
        },
        "id": "EnUl0prJKldm",
        "outputId": "bb6f80f5-edbb-46a6-d503-7a6e484cc2f1",
        "collapsed": true
      },
      "execution_count": null,
      "outputs": [
        {
          "output_type": "stream",
          "name": "stdout",
          "text": [
            "JOKENPÔ\n",
            "----------------------------------------------------------------\n",
            "Jogador 1. Faça sua escolha (pedra, papel ou tesoura)pedra\n",
            "Jogador 2. Faça sua escolha (pedra, papel ou tesoura)tesoura\n",
            "Pedra vence tesoura, vitoria do Player 1\n"
          ]
        }
      ]
    },
    {
      "cell_type": "code",
      "source": [
        "\n",
        "print('TABUADA DIGITAL')\n",
        "print('---------------------------------------------------------------------')\n",
        "num = int(input('Digite o número e apresentaremos a tabuada dele até 10: '))\n",
        "print('---------------------------------------------------------------------')\n",
        "for i in range(1, 11):\n",
        "   print(num,'x',i,\"=\",num*i)\n",
        "print('---------------------------------------------------------------------')"
      ],
      "metadata": {
        "colab": {
          "base_uri": "https://localhost:8080/"
        },
        "collapsed": true,
        "id": "0G7TF_1fEWpy",
        "outputId": "9ae66fdd-a59c-42d2-f65d-ec7c9dc9095a"
      },
      "execution_count": null,
      "outputs": [
        {
          "output_type": "stream",
          "name": "stdout",
          "text": [
            "TABUADA DIGITAL\n",
            "---------------------------------------------------------------------\n",
            "Digite o número e apresentaremos a tabuada dele até 10: 5\n",
            "---------------------------------------------------------------------\n",
            "1 x 5 = 5\n",
            "2 x 5 = 10\n",
            "3 x 5 = 15\n",
            "4 x 5 = 20\n",
            "5 x 5 = 25\n",
            "6 x 5 = 30\n",
            "7 x 5 = 35\n",
            "8 x 5 = 40\n",
            "9 x 5 = 45\n",
            "10 x 5 = 50\n",
            "---------------------------------------------------------------------\n"
          ]
        }
      ]
    },
    {
      "cell_type": "markdown",
      "source": [
        "Calcular media"
      ],
      "metadata": {
        "id": "oJON11_ZelJV"
      }
    },
    {
      "cell_type": "code",
      "source": [
        "quantidade = int(input('quantas notas haverão no semestre? '))\n",
        "media = 0\n",
        "for x in range (0,quantidade):\n",
        "  notas = int(input('qual a nota do aluno? '))\n",
        "  media += notas\n",
        "print(media/quantidade)"
      ],
      "metadata": {
        "id": "D1HA-YZren9d"
      },
      "execution_count": null,
      "outputs": []
    },
    {
      "cell_type": "markdown",
      "source": [
        "3 .Números Primos:"
      ],
      "metadata": {
        "id": "wfYJvTeC4d2E"
      }
    },
    {
      "cell_type": "code",
      "source": [
        "\n",
        "print('ESCOLA: Senai Nadir Dias De Figueiredo')\n",
        "print('autor: Cicero Miguel De Souza Frasão')\n",
        "print('versão 1.0')\n",
        "\n",
        "print('NÚMEROS PRIMOS PINTADOS EM VERMELHO')\n",
        "print('-------------------------------------------------------------------')\n",
        "for numero in range(1,51):\n",
        "  # print(numero)\n",
        "  divisor = 0\n",
        "  for i in range(1,numero+1):\n",
        "    if numero % i ==0:\n",
        "      divisor +=1\n",
        "      # print(i)\n",
        "  if divisor == 2 :\n",
        "    print(f'\\033[31m{numero}\\033[0;0m')\n",
        "  else:\n",
        "    print(f'\\033[34m{numero}\\033[0;0m')"
      ],
      "metadata": {
        "id": "vULY--gSPruW"
      },
      "execution_count": null,
      "outputs": []
    },
    {
      "cell_type": "markdown",
      "source": [
        "Fibonacci"
      ],
      "metadata": {
        "id": "7UySa5k34oRE"
      }
    },
    {
      "cell_type": "code",
      "source": [
        "print('='*20)\n",
        "print('Sêquencia de Fibonacci')\n",
        "print('='*20)\n",
        "print('''O matemático italiano Leonardo de Pisa, também conhecido como Fibonacci, criou a sequência de Fibonacci.\n",
        "Ele a descreveu no seu livro Liber Abaci (Livro do Ábaco), publicado em 1202. ''')\n",
        "print('='*20)\n",
        "\n",
        "\n",
        "pergunta = int(input('Digite um número para sua sequência de Fibonacci: '))\n",
        "proximo  = 1\n",
        "anterior = 0\n",
        "while (proximo<pergunta+1):\n",
        "   print(proximo)\n",
        "   proximo = proximo + anterior\n",
        "   anterior = proximo - anterior\n",
        "   if(proximo == 0):\n",
        "     proximo  = proximo + 1"
      ],
      "metadata": {
        "colab": {
          "base_uri": "https://localhost:8080/"
        },
        "collapsed": true,
        "id": "RxPorHZqYH5d",
        "outputId": "89ed58fa-b5ad-492d-f4ec-4dc72ed9b837"
      },
      "execution_count": null,
      "outputs": [
        {
          "output_type": "stream",
          "name": "stdout",
          "text": [
            "====================\n",
            "Sêquencia de Fibonacci\n",
            "====================\n",
            "O matemático italiano Leonardo de Pisa, também conhecido como Fibonacci, criou a sequência de Fibonacci.\n",
            "Ele a descreveu no seu livro Liber Abaci (Livro do Ábaco), publicado em 1202. \n",
            "====================\n",
            "Digite um número para sua sequência de Fibonacci: 55\n",
            "1\n",
            "1\n",
            "2\n",
            "3\n",
            "5\n",
            "8\n",
            "13\n",
            "21\n",
            "34\n",
            "55\n"
          ]
        }
      ]
    },
    {
      "cell_type": "markdown",
      "source": [
        "Lanchonete"
      ],
      "metadata": {
        "id": "OjxP1XIgoI0_"
      }
    },
    {
      "cell_type": "code",
      "source": [
        "print('BEM-VINDO A LANCHONETE DO SENAI')\n",
        "print('='*20,'Cardápio','='*20)\n",
        "print()\n",
        "print('[  Código  ]', '[       Descrição      ]', '[ Valor ]')\n",
        "print('    100           Cachorro Quente        9,00')\n",
        "print('    101        Cachorro Quente Duplo     11,00')\n",
        "print('    102                X-Egg             12,00')\n",
        "print('    103              X-Salada            12,00')\n",
        "print('    104               X-Bacon            14,00')\n",
        "print('    105               X-Tudo             17,00')\n",
        "print('    200        Refrigerante de lata      5,00')\n",
        "print('    201             Chá gelado           4,00')\n",
        "print()\n",
        "print('='*50)\n",
        "\n",
        "itens = [\n",
        "    (100, 'Cachorro Quente', 9.00),\n",
        "    (101, 'Cachorro Quente Duplo', 11.00),\n",
        "    (102, 'X-Egg', 12.00),\n",
        "    (103, 'X-Salada', 12.00),\n",
        "    (104, 'X-Bacon', 14.00),\n",
        "    (105, 'X-Tudo', 17.00),\n",
        "    (200, 'Refrigerante de lata', 5.00),\n",
        "    (201, 'Chá gelado', 4.00)\n",
        "]\n",
        "extrato_list = []\n",
        "\n",
        "total = 0\n",
        "while True:\n",
        "    code = input('Digite um código do nosso cardápio: ')\n",
        "    if code.isdigit():\n",
        "        code = int(code)\n",
        "        item_valido = False\n",
        "\n",
        "        for item in itens:\n",
        "            if item[0] == code:\n",
        "                print(f'Você selecionou {item[1]} no valor de {item[2]:.2f}')\n",
        "                total += item[2]\n",
        "                extrato_list.append(item[1])\n",
        "                item_valido = True\n",
        "                break\n",
        "        if item_valido:\n",
        "            pedirnovamente = input('Deseja pedir novamente? (s/n) ').strip().lower()\n",
        "            if pedirnovamente != 's':\n",
        "                break\n",
        "        else:\n",
        "            print('Código inválido. Tente novamente')\n",
        "    else:\n",
        "        print('Entrada inválida. Por favor, digite apenas números.')\n",
        "print(print('='*50))\n",
        "print('Extrato do pedido:')\n",
        "print(extrato_list)\n",
        "print(f'Total a pagar: {total:.2f}')\n"
      ],
      "metadata": {
        "colab": {
          "base_uri": "https://localhost:8080/"
        },
        "id": "11rUsLKGI-WX",
        "outputId": "5e0944f7-5285-4b31-b3c4-549b619e9d43"
      },
      "execution_count": null,
      "outputs": [
        {
          "output_type": "stream",
          "name": "stdout",
          "text": [
            "BEM-VINDO A LANCHONETE DO SENAI\n",
            "==================== Cardápio ====================\n",
            "\n",
            "[  Código  ] [       Descrição      ] [ Valor ]\n",
            "    100           Cachorro Quente        9,00\n",
            "    101        Cachorro Quente Duplo     11,00\n",
            "    102                X-Egg             12,00\n",
            "    103              X-Salada            12,00\n",
            "    104               X-Bacon            14,00\n",
            "    105               X-Tudo             17,00\n",
            "    200        Refrigerante de lata      5,00\n",
            "    201             Chá gelado           4,00\n",
            "\n",
            "==================================================\n",
            "Digite um código do nosso cardápio: 100\n",
            "Você selecionou Cachorro Quente no valor de 9.00\n",
            "Deseja pedir novamente? (s/n) s\n",
            "Digite um código do nosso cardápio: 101\n",
            "Você selecionou Cachorro Quente Duplo no valor de 11.00\n",
            "Deseja pedir novamente? (s/n) n\n",
            "==================================================\n",
            "None\n",
            "Extrato do pedido:\n",
            "['Cachorro Quente', 'Cachorro Quente Duplo']\n",
            "Total a pagar: 20.00\n"
          ]
        }
      ]
    },
    {
      "cell_type": "markdown",
      "source": [
        "CANTINA 2.0"
      ],
      "metadata": {
        "id": "xv56HpyQlAXn"
      }
    },
    {
      "cell_type": "code",
      "source": [
        "print('BEM-VINDO A LANCHONETE DO SENAI')\n",
        "print('='*20, 'Cardápio', '='*20)\n",
        "print()\n",
        "print('{:<10} {:<25} {:>7}'.format('Código', 'Descrição', 'Valor'))\n",
        "print('='*50)\n",
        "print('{:<10} {:<25} {:>7}'.format('100', 'Cachorro Quente', '9,00'))\n",
        "print('{:<10} {:<25} {:>7}'.format('101', 'Cachorro Quente Duplo', '11,00'))\n",
        "print('{:<10} {:<25} {:>7}'.format('102', 'X-Egg', '12,00'))\n",
        "print('{:<10} {:<25} {:>7}'.format('103', 'X-Salada', '12,00'))\n",
        "print('{:<10} {:<25} {:>7}'.format('104', 'X-Bacon', '14,00'))\n",
        "print('{:<10} {:<25} {:>7}'.format('105', 'X-Tudo', '17,00'))\n",
        "print('{:<10} {:<25} {:>7}'.format('200', 'Refrigerante de lata', '5,00'))\n",
        "print('{:<10} {:<25} {:>7}'.format('201', 'Chá gelado', '4,00'))\n",
        "print()\n",
        "print('='*50)\n",
        "\n",
        "itens = {\n",
        "    100: ('Cachorro Quente', 9.00),\n",
        "    101: ('Cachorro Quente Duplo', 11.00),\n",
        "    102: ('X-Egg', 12.00),\n",
        "    103: ('X-Salada', 12.00),\n",
        "    104: ('X-Bacon', 14.00),\n",
        "    105: ('X-Tudo', 17.00),\n",
        "    200: ('Refrigerante de lata', 5.00),\n",
        "    201: ('Chá gelado', 4.00)\n",
        "}\n",
        "extrato_list = []\n",
        "total = 0\n",
        "\n",
        "while True:\n",
        "    code = input('Digite um código do nosso cardápio: ')\n",
        "    if code.isdigit():\n",
        "        code = int(code)\n",
        "        if code in itens:\n",
        "            item = itens[code]\n",
        "            quantidade = input('Digite a quantidade do item: ')\n",
        "            if quantidade.isdigit():\n",
        "                quantidade = int(quantidade)\n",
        "                subtotal = item[1] * quantidade\n",
        "                print(f'Você selecionou {quantidade}x {item[0]} no valor de R$ {subtotal:.2f}')\n",
        "                total += subtotal\n",
        "                extrato_list.append((item[0], quantidade, item[1], subtotal))\n",
        "                pedirnovamente = input('Deseja pedir novamente? (s/n) ').strip().lower()\n",
        "                if pedirnovamente != 's':\n",
        "                    break\n",
        "            else:\n",
        "                print('Quantidade inválida. Tente novamente.')\n",
        "        else:\n",
        "            print('Código inválido. Tente novamente.')\n",
        "    else:\n",
        "        print('Entrada inválida. Por favor, digite apenas números.')\n",
        "\n",
        "print('='*50)\n",
        "print('Extrato do pedido:')\n",
        "print('{:<25} {:<10} {:<10} {:<10}'.format('Item', 'Quantidade', 'Unitário','Subtotal'))\n",
        "for item in extrato_list:\n",
        "    print('{:<25} {:<10} {:<10.2f} {:<10.2f}'.format(item[0], item[1], item[2], item[3]))\n",
        "print(f'Total a pagar: R$ {total:.2f}')\n"
      ],
      "metadata": {
        "id": "lh_8VmUQk-0v",
        "colab": {
          "base_uri": "https://localhost:8080/"
        },
        "outputId": "e8295b92-baf3-45a2-da16-6c8b9c25c341"
      },
      "execution_count": null,
      "outputs": [
        {
          "output_type": "stream",
          "name": "stdout",
          "text": [
            "BEM-VINDO A LANCHONETE DO SENAI\n",
            "==================== Cardápio ====================\n",
            "\n",
            "Código     Descrição                   Valor\n",
            "==================================================\n",
            "100        Cachorro Quente              9,00\n",
            "101        Cachorro Quente Duplo       11,00\n",
            "102        X-Egg                       12,00\n",
            "103        X-Salada                    12,00\n",
            "104        X-Bacon                     14,00\n",
            "105        X-Tudo                      17,00\n",
            "200        Refrigerante de lata         5,00\n",
            "201        Chá gelado                   4,00\n",
            "\n",
            "==================================================\n",
            "Digite um código do nosso cardápio: 100\n",
            "Digite a quantidade do item: 5\n",
            "Você selecionou 5x Cachorro Quente no valor de R$ 45.00\n",
            "Deseja pedir novamente? (s/n) s\n",
            "Digite um código do nosso cardápio: 100\n",
            "Digite a quantidade do item: 50\n",
            "Você selecionou 50x Cachorro Quente no valor de R$ 450.00\n",
            "Deseja pedir novamente? (s/n) s\n",
            "Digite um código do nosso cardápio: 200\n",
            "Digite a quantidade do item: 100\n",
            "Você selecionou 100x Refrigerante de lata no valor de R$ 500.00\n",
            "Deseja pedir novamente? (s/n) s\n",
            "Digite um código do nosso cardápio: 105\n",
            "Digite a quantidade do item: 70\n",
            "Você selecionou 70x X-Tudo no valor de R$ 1190.00\n",
            "Deseja pedir novamente? (s/n) n\n",
            "==================================================\n",
            "Extrato do pedido:\n",
            "Item                      Quantidade Unitário   Subtotal  \n",
            "Cachorro Quente           5          9.00       45.00     \n",
            "Cachorro Quente           50         9.00       450.00    \n",
            "Refrigerante de lata      100        5.00       500.00    \n",
            "X-Tudo                    70         17.00      1190.00   \n",
            "Total a pagar: R$ 2185.00\n",
            "Total a pagar: 2185.00\n"
          ]
        }
      ]
    }
  ]
}